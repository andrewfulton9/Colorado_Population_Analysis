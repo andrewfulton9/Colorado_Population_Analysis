{
 "cells": [
  {
   "cell_type": "code",
   "execution_count": 1,
   "metadata": {
    "collapsed": false
   },
   "outputs": [],
   "source": [
    "import pandas as pd\n",
    "import matplotlib.pyplot as plt\n",
    "import seaborn as sns\n",
    "import os\n",
    "import numpy as np\n",
    "import json\n",
    "import plotly.plotly as py\n",
    "import plotly.graph_objs as graph_objs\n",
    "\n",
    "%matplotlib inline"
   ]
  },
  {
   "cell_type": "code",
   "execution_count": 2,
   "metadata": {
    "collapsed": false
   },
   "outputs": [],
   "source": [
    "df = pd.read_csv('Population_Colorado.csv')\n",
    "\n",
    "with open('colorado_counties.geojson') as f:\n",
    "    counties = json.load(f)"
   ]
  },
  {
   "cell_type": "code",
   "execution_count": 3,
   "metadata": {
    "collapsed": false
   },
   "outputs": [],
   "source": [
    "d = {}\n",
    "for x in range(len(counties['features'])):\n",
    "    name = counties['features'][x]['properties']['name'][:-11]\n",
    "    if name in df['county'].unique():\n",
    "        d[name] = counties['features'][x]\n",
    "    else:\n",
    "        print 'not in: ', name\n",
    "\n",
    "ser = pd.Series(d.values(), index = d.keys())\n",
    "ser.name = 'coordinates'\n",
    "\n",
    "full_df = df.groupby(['county', 'year'], as_index=False).sum()\n",
    "full_df.drop(['fipsCode', 'age'], inplace = True, axis=1)\n",
    "\n",
    "full_df = full_df.join(ser, on='county')"
   ]
  },
  {
   "cell_type": "code",
   "execution_count": 4,
   "metadata": {
    "collapsed": false
   },
   "outputs": [
    {
     "data": {
      "text/html": [
       "<div>\n",
       "<table border=\"1\" class=\"dataframe\">\n",
       "  <thead>\n",
       "    <tr style=\"text-align: right;\">\n",
       "      <th></th>\n",
       "      <th>county</th>\n",
       "      <th>year</th>\n",
       "      <th>malePopulation</th>\n",
       "      <th>femalePopulation</th>\n",
       "      <th>totalPopulation</th>\n",
       "      <th>coordinates</th>\n",
       "    </tr>\n",
       "  </thead>\n",
       "  <tbody>\n",
       "    <tr>\n",
       "      <th>0</th>\n",
       "      <td>Adams</td>\n",
       "      <td>1990</td>\n",
       "      <td>131902</td>\n",
       "      <td>133807</td>\n",
       "      <td>265709</td>\n",
       "      <td>{u'geometry': {u'type': u'MultiPolygon', u'coo...</td>\n",
       "    </tr>\n",
       "    <tr>\n",
       "      <th>1</th>\n",
       "      <td>Adams</td>\n",
       "      <td>1991</td>\n",
       "      <td>136193</td>\n",
       "      <td>137427</td>\n",
       "      <td>273620</td>\n",
       "      <td>{u'geometry': {u'type': u'MultiPolygon', u'coo...</td>\n",
       "    </tr>\n",
       "    <tr>\n",
       "      <th>2</th>\n",
       "      <td>Adams</td>\n",
       "      <td>1992</td>\n",
       "      <td>140356</td>\n",
       "      <td>141030</td>\n",
       "      <td>281386</td>\n",
       "      <td>{u'geometry': {u'type': u'MultiPolygon', u'coo...</td>\n",
       "    </tr>\n",
       "    <tr>\n",
       "      <th>3</th>\n",
       "      <td>Adams</td>\n",
       "      <td>1993</td>\n",
       "      <td>145351</td>\n",
       "      <td>145431</td>\n",
       "      <td>290782</td>\n",
       "      <td>{u'geometry': {u'type': u'MultiPolygon', u'coo...</td>\n",
       "    </tr>\n",
       "    <tr>\n",
       "      <th>4</th>\n",
       "      <td>Adams</td>\n",
       "      <td>1994</td>\n",
       "      <td>150673</td>\n",
       "      <td>150120</td>\n",
       "      <td>300793</td>\n",
       "      <td>{u'geometry': {u'type': u'MultiPolygon', u'coo...</td>\n",
       "    </tr>\n",
       "  </tbody>\n",
       "</table>\n",
       "</div>"
      ],
      "text/plain": [
       "  county  year  malePopulation  femalePopulation  totalPopulation  \\\n",
       "0  Adams  1990          131902            133807           265709   \n",
       "1  Adams  1991          136193            137427           273620   \n",
       "2  Adams  1992          140356            141030           281386   \n",
       "3  Adams  1993          145351            145431           290782   \n",
       "4  Adams  1994          150673            150120           300793   \n",
       "\n",
       "                                         coordinates  \n",
       "0  {u'geometry': {u'type': u'MultiPolygon', u'coo...  \n",
       "1  {u'geometry': {u'type': u'MultiPolygon', u'coo...  \n",
       "2  {u'geometry': {u'type': u'MultiPolygon', u'coo...  \n",
       "3  {u'geometry': {u'type': u'MultiPolygon', u'coo...  \n",
       "4  {u'geometry': {u'type': u'MultiPolygon', u'coo...  "
      ]
     },
     "execution_count": 4,
     "metadata": {},
     "output_type": "execute_result"
    }
   ],
   "source": [
    "full_df.head()"
   ]
  },
  {
   "cell_type": "code",
   "execution_count": 5,
   "metadata": {
    "collapsed": false
   },
   "outputs": [],
   "source": [
    "# colors from\n",
    "# https://gka.github.io/palettes/#colors=lightyellow,orange,deeppink,darkred|steps=7|bez=1|coL=1\n",
    "\n",
    "colors = ['#ffffe0','#fffddb','#fffad7','#fff7d1','#fff5cd','#fff2c8',\n",
    "          '#fff0c4','#ffedbf','#ffebba','#ffe9b7','#ffe5b2','#ffe3af',\n",
    "          '#ffe0ab','#ffdda7','#ffdba4','#ffd9a0','#ffd69c','#ffd399',\n",
    "          '#ffd196','#ffcd93','#ffca90','#ffc88d','#ffc58a','#ffc288',\n",
    "          '#ffbf86','#ffbd83','#ffb981','#ffb67f','#ffb47d','#ffb17b',\n",
    "          '#ffad79','#ffaa77','#ffa775','#ffa474','#ffa172','#ff9e70',\n",
    "          '#ff9b6f','#ff986e','#ff956c','#fe916b','#fe8f6a','#fd8b69',\n",
    "          '#fc8868','#fb8567','#fa8266','#f98065','#f87d64','#f77a63',\n",
    "          '#f67862','#f57562','#f37261','#f37060','#f16c5f','#f0695e',\n",
    "          '#ee665d','#ed645c','#ec615b','#ea5e5b','#e85b59','#e75859',\n",
    "          '#e55658','#e45356','#e35056','#e14d54','#df4a53','#dd4852',\n",
    "          '#db4551','#d9434f','#d8404e','#d53d4d','#d43b4b','#d2384a',\n",
    "          '#cf3548','#cd3346','#cc3045','#ca2e43','#c72b42','#c52940',\n",
    "          '#c2263d','#c0233c','#be213a','#bb1e37','#ba1c35','#b71933',\n",
    "          '#b41731','#b2152e','#b0122c','#ac1029','#aa0e27','#a70b24',\n",
    "          '#a40921','#a2071f','#a0051c','#9d0419','#990215','#970212',\n",
    "          '#94010e','#91000a','#8e0006','#8b0000', '#8b0000']\n",
    "\n",
    "scl = dict(zip(np.arange(0, 101, 1), colors))"
   ]
  },
  {
   "cell_type": "code",
   "execution_count": 6,
   "metadata": {
    "collapsed": false
   },
   "outputs": [],
   "source": [
    "def get_scl(obj):\n",
    "    frac = obj / 10000\n",
    "    return scl[frac]\n",
    "    \n",
    "full_df['color'] = full_df['totalPopulation'].apply(get_scl)"
   ]
  },
  {
   "cell_type": "code",
   "execution_count": 10,
   "metadata": {
    "collapsed": false
   },
   "outputs": [],
   "source": [
    "df_2015 = full_df[full_df['year'] == 2015]"
   ]
  },
  {
   "cell_type": "code",
   "execution_count": 12,
   "metadata": {
    "collapsed": false
   },
   "outputs": [],
   "source": [
    "layers_ls = []\n",
    "for x in df_2015.index:\n",
    "    item_dict = dict(sourcetype = 'geojson',\n",
    "                     source = df_2015.ix[x]['coordinates'],\n",
    "                     type = 'fill',\n",
    "                     color = df_2015.ix[x]['color'])\n",
    "    layers_ls.append(item_dict)"
   ]
  },
  {
   "cell_type": "code",
   "execution_count": 13,
   "metadata": {
    "collapsed": false
   },
   "outputs": [],
   "source": [
    "colorscl = [[i * .01, v] for i,v in enumerate(scl.values())]"
   ]
  },
  {
   "cell_type": "code",
   "execution_count": 14,
   "metadata": {
    "collapsed": true
   },
   "outputs": [],
   "source": [
    "mapbox_access_token = os.environ['MAPBOX_AT']"
   ]
  },
  {
   "cell_type": "code",
   "execution_count": null,
   "metadata": {
    "collapsed": false
   },
   "outputs": [],
   "source": [
    "nums = [k/float(100) for k in scl.keys()]\n",
    "\n",
    "data = graph_objs.Data([\n",
    "            graph_objs.Scattermapbox(\n",
    "                    lat = [0],\n",
    "                    lon = [0],\n",
    "                    marker = graph_objs.Marker(\n",
    "                            size=9,\n",
    "                            cmax=100,\n",
    "                            cmin=0,\n",
    "                            colorscale = colorscl,\n",
    "                            showscale = True,\n",
    "                            autocolorscale=False,\n",
    "                            color=range(0,101),\n",
    "                            colorbar=graph_objs.ColorBar(\n",
    "                                                        yanchor='middle',\n",
    "                                                        xanchor='center',\n",
    "#                                                         title='population (x 10000)',\n",
    "                                                        titlefont = dict(size = 15),\n",
    "                                                        titleside = 'top',\n",
    "                                                        y = .5,\n",
    "                                                        x = .96,\n",
    "                                                        len = .89\n",
    "                                                        ),\n",
    "                                                ),\n",
    "                    mode = 'markers',\n",
    "                                     )\n",
    "                                    \n",
    "                     ])\n",
    "            \n",
    "layout = graph_objs.Layout(\n",
    "    title = 'Colorado Population (x 10,000)',\n",
    "    height=1050,\n",
    "    width=800,\n",
    "    autosize=True,\n",
    "    hovermode='closest',\n",
    "    mapbox=dict(\n",
    "        layers= layers_ls,\n",
    "        accesstoken=mapbox_access_token,\n",
    "        bearing=0,\n",
    "        center=dict(\n",
    "            lat=39.03,\n",
    "            lon=-105.7\n",
    "        ),\n",
    "        pitch=0,\n",
    "        zoom=5.5,\n",
    "        style='light'\n",
    "    ),\n",
    ")\n",
    "\n",
    "fig = dict(data = data, layout=layout)\n",
    "fn = 'test.jpeg'\n",
    "save_fn = 'images/{}'.format(fn)\n",
    "h = 575\n",
    "w = 750\n",
    "py.image.save_as(fig, filename=save_fn, width = w, height= h)\n",
    "py.image.ishow(fig, width = w, height= h)"
   ]
  },
  {
   "cell_type": "code",
   "execution_count": null,
   "metadata": {
    "collapsed": false,
    "scrolled": false
   },
   "outputs": [],
   "source": [
    "from IPython.display import Image\n",
    "\n",
    "Image('images/test.jpeg')"
   ]
  },
  {
   "cell_type": "code",
   "execution_count": null,
   "metadata": {
    "collapsed": true
   },
   "outputs": [],
   "source": []
  }
 ],
 "metadata": {
  "kernelspec": {
   "display_name": "Python 2",
   "language": "python",
   "name": "python2"
  },
  "language_info": {
   "codemirror_mode": {
    "name": "ipython",
    "version": 2
   },
   "file_extension": ".py",
   "mimetype": "text/x-python",
   "name": "python",
   "nbconvert_exporter": "python",
   "pygments_lexer": "ipython2",
   "version": "2.7.11"
  }
 },
 "nbformat": 4,
 "nbformat_minor": 0
}
